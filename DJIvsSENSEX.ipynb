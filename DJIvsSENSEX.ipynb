{
 "cells": [
  {
   "cell_type": "code",
   "execution_count": 13,
   "metadata": {},
   "outputs": [],
   "source": [
    "import pandas as pd\n",
    "import numpy as np\n",
    "import seaborn as sns"
   ]
  },
  {
   "cell_type": "code",
   "execution_count": 2,
   "metadata": {},
   "outputs": [],
   "source": [
    "sensex_df = pd.read_csv(\"data/sensex.csv\", index_col=\"Date\")\n",
    "dji_df = pd.read_csv(\"data/dji.csv\", index_col=\"Date\")"
   ]
  },
  {
   "cell_type": "markdown",
   "metadata": {},
   "source": [
    "#### Convert index to datetime"
   ]
  },
  {
   "cell_type": "code",
   "execution_count": 3,
   "metadata": {},
   "outputs": [],
   "source": [
    "sensex_df.index = pd.to_datetime(sensex_df.index)\n",
    "dji_df.index = pd.to_datetime(dji_df.index)"
   ]
  },
  {
   "cell_type": "markdown",
   "metadata": {},
   "source": [
    "#### Create common index"
   ]
  },
  {
   "cell_type": "code",
   "execution_count": 4,
   "metadata": {},
   "outputs": [],
   "source": [
    "idx = dji_df.index.intersection(sensex_df.index)"
   ]
  },
  {
   "cell_type": "markdown",
   "metadata": {},
   "source": [
    "#### Interpolate missing values by nearest neighbours"
   ]
  },
  {
   "cell_type": "code",
   "execution_count": 5,
   "metadata": {},
   "outputs": [],
   "source": [
    "sensex_df = sensex_df.interpolate(method ='nearest', limit_direction ='forward')"
   ]
  },
  {
   "cell_type": "code",
   "execution_count": 6,
   "metadata": {},
   "outputs": [],
   "source": [
    "sensex_df.drop(columns=['Volume', 'Adj Close'], inplace=True)"
   ]
  },
  {
   "cell_type": "code",
   "execution_count": 7,
   "metadata": {},
   "outputs": [],
   "source": [
    "dji_df.drop(columns=['Volume', 'Adj Close'], inplace=True)"
   ]
  },
  {
   "cell_type": "code",
   "execution_count": 8,
   "metadata": {},
   "outputs": [],
   "source": [
    "sensex_df.rename(columns={\"Open\": \"Open_sensex\", \"High\": \"High_sensex\", \"Low\": \"Low_sensex\", \"Close\": \"Close_sensex\"}, inplace=True)"
   ]
  },
  {
   "cell_type": "code",
   "execution_count": 16,
   "metadata": {},
   "outputs": [],
   "source": [
    "result = pd.concat([dji_df, sensex_df], axis=1, join='inner')"
   ]
  },
  {
   "cell_type": "code",
   "execution_count": 17,
   "metadata": {},
   "outputs": [
    {
     "data": {
      "text/html": [
       "<div>\n",
       "<style scoped>\n",
       "    .dataframe tbody tr th:only-of-type {\n",
       "        vertical-align: middle;\n",
       "    }\n",
       "\n",
       "    .dataframe tbody tr th {\n",
       "        vertical-align: top;\n",
       "    }\n",
       "\n",
       "    .dataframe thead th {\n",
       "        text-align: right;\n",
       "    }\n",
       "</style>\n",
       "<table border=\"1\" class=\"dataframe\">\n",
       "  <thead>\n",
       "    <tr style=\"text-align: right;\">\n",
       "      <th></th>\n",
       "      <th>Open</th>\n",
       "      <th>High</th>\n",
       "      <th>Low</th>\n",
       "      <th>Close</th>\n",
       "      <th>Open_sensex</th>\n",
       "      <th>High_sensex</th>\n",
       "      <th>Low_sensex</th>\n",
       "      <th>Close_sensex</th>\n",
       "    </tr>\n",
       "    <tr>\n",
       "      <th>Date</th>\n",
       "      <th></th>\n",
       "      <th></th>\n",
       "      <th></th>\n",
       "      <th></th>\n",
       "      <th></th>\n",
       "      <th></th>\n",
       "      <th></th>\n",
       "      <th></th>\n",
       "    </tr>\n",
       "  </thead>\n",
       "  <tbody>\n",
       "    <tr>\n",
       "      <th>1997-07-01</th>\n",
       "      <td>7678.000000</td>\n",
       "      <td>7748.339844</td>\n",
       "      <td>7667.359863</td>\n",
       "      <td>7722.299805</td>\n",
       "      <td>4263.109863</td>\n",
       "      <td>4301.770020</td>\n",
       "      <td>4247.660156</td>\n",
       "      <td>4300.859863</td>\n",
       "    </tr>\n",
       "    <tr>\n",
       "      <th>1997-07-02</th>\n",
       "      <td>7721.700195</td>\n",
       "      <td>7795.379883</td>\n",
       "      <td>7697.450195</td>\n",
       "      <td>7795.379883</td>\n",
       "      <td>4302.959961</td>\n",
       "      <td>4395.310059</td>\n",
       "      <td>4295.399902</td>\n",
       "      <td>4333.899902</td>\n",
       "    </tr>\n",
       "    <tr>\n",
       "      <th>1997-07-03</th>\n",
       "      <td>7797.000000</td>\n",
       "      <td>7896.259766</td>\n",
       "      <td>7796.970215</td>\n",
       "      <td>7895.799805</td>\n",
       "      <td>4335.790039</td>\n",
       "      <td>4393.290039</td>\n",
       "      <td>4299.970215</td>\n",
       "      <td>4323.459961</td>\n",
       "    </tr>\n",
       "    <tr>\n",
       "      <th>1997-07-07</th>\n",
       "      <td>7896.500000</td>\n",
       "      <td>7951.450195</td>\n",
       "      <td>7828.180176</td>\n",
       "      <td>7858.500000</td>\n",
       "      <td>4326.810059</td>\n",
       "      <td>4391.009766</td>\n",
       "      <td>4289.490234</td>\n",
       "      <td>4291.450195</td>\n",
       "    </tr>\n",
       "    <tr>\n",
       "      <th>1997-07-08</th>\n",
       "      <td>7858.000000</td>\n",
       "      <td>7962.310059</td>\n",
       "      <td>7857.129883</td>\n",
       "      <td>7962.299805</td>\n",
       "      <td>4285.649902</td>\n",
       "      <td>4313.000000</td>\n",
       "      <td>4252.490234</td>\n",
       "      <td>4306.390137</td>\n",
       "    </tr>\n",
       "    <tr>\n",
       "      <th>...</th>\n",
       "      <td>...</td>\n",
       "      <td>...</td>\n",
       "      <td>...</td>\n",
       "      <td>...</td>\n",
       "      <td>...</td>\n",
       "      <td>...</td>\n",
       "      <td>...</td>\n",
       "      <td>...</td>\n",
       "    </tr>\n",
       "    <tr>\n",
       "      <th>2020-02-27</th>\n",
       "      <td>26526.000000</td>\n",
       "      <td>26775.310547</td>\n",
       "      <td>25752.820313</td>\n",
       "      <td>25766.640625</td>\n",
       "      <td>39947.800781</td>\n",
       "      <td>39947.800781</td>\n",
       "      <td>39423.269531</td>\n",
       "      <td>39745.660156</td>\n",
       "    </tr>\n",
       "    <tr>\n",
       "      <th>2020-02-28</th>\n",
       "      <td>25270.830078</td>\n",
       "      <td>25494.240234</td>\n",
       "      <td>24681.009766</td>\n",
       "      <td>25409.359375</td>\n",
       "      <td>39087.468750</td>\n",
       "      <td>39087.468750</td>\n",
       "      <td>38219.968750</td>\n",
       "      <td>38297.289063</td>\n",
       "    </tr>\n",
       "    <tr>\n",
       "      <th>2020-03-02</th>\n",
       "      <td>25590.509766</td>\n",
       "      <td>26706.169922</td>\n",
       "      <td>25391.960938</td>\n",
       "      <td>26703.320313</td>\n",
       "      <td>38910.949219</td>\n",
       "      <td>39083.171875</td>\n",
       "      <td>37785.988281</td>\n",
       "      <td>38144.019531</td>\n",
       "    </tr>\n",
       "    <tr>\n",
       "      <th>2020-03-03</th>\n",
       "      <td>26762.470703</td>\n",
       "      <td>27084.589844</td>\n",
       "      <td>25706.279297</td>\n",
       "      <td>25917.410156</td>\n",
       "      <td>38480.890625</td>\n",
       "      <td>38754.238281</td>\n",
       "      <td>38142.300781</td>\n",
       "      <td>38623.699219</td>\n",
       "    </tr>\n",
       "    <tr>\n",
       "      <th>2020-03-04</th>\n",
       "      <td>26383.679688</td>\n",
       "      <td>27102.339844</td>\n",
       "      <td>26286.310547</td>\n",
       "      <td>27090.859375</td>\n",
       "      <td>38715.718750</td>\n",
       "      <td>38791.699219</td>\n",
       "      <td>37846.101563</td>\n",
       "      <td>38409.480469</td>\n",
       "    </tr>\n",
       "  </tbody>\n",
       "</table>\n",
       "<p>5520 rows × 8 columns</p>\n",
       "</div>"
      ],
      "text/plain": [
       "                    Open          High           Low         Close  \\\n",
       "Date                                                                 \n",
       "1997-07-01   7678.000000   7748.339844   7667.359863   7722.299805   \n",
       "1997-07-02   7721.700195   7795.379883   7697.450195   7795.379883   \n",
       "1997-07-03   7797.000000   7896.259766   7796.970215   7895.799805   \n",
       "1997-07-07   7896.500000   7951.450195   7828.180176   7858.500000   \n",
       "1997-07-08   7858.000000   7962.310059   7857.129883   7962.299805   \n",
       "...                  ...           ...           ...           ...   \n",
       "2020-02-27  26526.000000  26775.310547  25752.820313  25766.640625   \n",
       "2020-02-28  25270.830078  25494.240234  24681.009766  25409.359375   \n",
       "2020-03-02  25590.509766  26706.169922  25391.960938  26703.320313   \n",
       "2020-03-03  26762.470703  27084.589844  25706.279297  25917.410156   \n",
       "2020-03-04  26383.679688  27102.339844  26286.310547  27090.859375   \n",
       "\n",
       "             Open_sensex   High_sensex    Low_sensex  Close_sensex  \n",
       "Date                                                                \n",
       "1997-07-01   4263.109863   4301.770020   4247.660156   4300.859863  \n",
       "1997-07-02   4302.959961   4395.310059   4295.399902   4333.899902  \n",
       "1997-07-03   4335.790039   4393.290039   4299.970215   4323.459961  \n",
       "1997-07-07   4326.810059   4391.009766   4289.490234   4291.450195  \n",
       "1997-07-08   4285.649902   4313.000000   4252.490234   4306.390137  \n",
       "...                  ...           ...           ...           ...  \n",
       "2020-02-27  39947.800781  39947.800781  39423.269531  39745.660156  \n",
       "2020-02-28  39087.468750  39087.468750  38219.968750  38297.289063  \n",
       "2020-03-02  38910.949219  39083.171875  37785.988281  38144.019531  \n",
       "2020-03-03  38480.890625  38754.238281  38142.300781  38623.699219  \n",
       "2020-03-04  38715.718750  38791.699219  37846.101563  38409.480469  \n",
       "\n",
       "[5520 rows x 8 columns]"
      ]
     },
     "execution_count": 17,
     "metadata": {},
     "output_type": "execute_result"
    }
   ],
   "source": [
    "result"
   ]
  },
  {
   "cell_type": "code",
   "execution_count": 32,
   "metadata": {},
   "outputs": [
    {
     "data": {
      "text/plain": [
       "<matplotlib.axes._subplots.AxesSubplot at 0x21bcd5a7c88>"
      ]
     },
     "execution_count": 32,
     "metadata": {},
     "output_type": "execute_result"
    },
    {
     "data": {
      "image/png": "[encoded data removed]",
      "text/plain": [
       "<Figure size 432x288 with 1 Axes>"
      ]
     },
     "metadata": {
      "needs_background": "light"
     },
     "output_type": "display_data"
    }
   ],
   "source": [
    "result[{\"Close\",\"Close_sensex\"}].loc[(result.index.year>2010)].plot()"
   ]
  },
  {
   "cell_type": "code",
   "execution_count": 31,
   "metadata": {},
   "outputs": [
    {
     "data": {
      "image/png": "[encoded data removed]",
      "text/plain": [
       "<Figure size 432x288 with 2 Axes>"
      ]
     },
     "metadata": {
      "needs_background": "light"
     },
     "output_type": "display_data"
    }
   ],
   "source": [
    "corr = result[{\"Close\",\"Close_sensex\"}].corr()\n",
    "ax = sns.heatmap(\n",
    "    corr, \n",
    "    vmin=-1, vmax=1, center=0,\n",
    "    cmap=sns.diverging_palette(20, 220, n=200),\n",
    "    square=True\n",
    ")\n",
    "ax.set_xticklabels(\n",
    "    ax.get_xticklabels(),\n",
    "    rotation=45,\n",
    "    horizontalalignment='right'\n",
    ");"
   ]
  },
  {
   "cell_type": "code",
   "execution_count": null,
   "metadata": {},
   "outputs": [],
   "source": []
  }
 ],
 "metadata": {
  "kernelspec": {
   "display_name": "Python 3",
   "language": "python",
   "name": "python3"
  },
  "language_info": {
   "codemirror_mode": {
    "name": "ipython",
    "version": 3
   },
   "file_extension": ".py",
   "mimetype": "text/x-python",
   "name": "python",
   "nbconvert_exporter": "python",
   "pygments_lexer": "ipython3",
   "version": "3.7.6"
  }
 },
 "nbformat": 4,
 "nbformat_minor": 4
}

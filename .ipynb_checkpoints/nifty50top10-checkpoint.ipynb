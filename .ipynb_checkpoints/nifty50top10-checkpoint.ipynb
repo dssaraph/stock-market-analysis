{
 "cells": [
  {
   "cell_type": "code",
   "execution_count": 1,
   "metadata": {},
   "outputs": [],
   "source": [
    "import pandas as pd\n",
    "import datetime\n",
    "import io\n",
    "import requests\n",
    "from time import sleep\n",
    "from matplotlib import pyplot as plt\n",
    "from bs4 import BeautifulSoup"
   ]
  },
  {
   "cell_type": "code",
   "execution_count": 2,
   "metadata": {},
   "outputs": [],
   "source": [
    "days = 30   ## Edit this\n",
    "period = pd.date_range(end=(datetime.date.today() - datetime.timedelta(days=1)), periods=days, freq='B')"
   ]
  },
  {
   "cell_type": "code",
   "execution_count": 3,
   "metadata": {},
   "outputs": [],
   "source": [
    "holidays = [\"04-Mar-2019\",\n",
    "            \"21-Mar-2019\",\n",
    "            \"17-Apr-2019\",\n",
    "            \"19-Apr-2019\",\n",
    "            \"29-Apr-2019\",\n",
    "            \"01-May-2019\",\n",
    "            \"05-Jun-2019\",\n",
    "            \"12-Aug-2019\",\n",
    "            \"5-Aug-2019\",\n",
    "            \"2-Sep-2019\",\n",
    "            \"10-Sep-2019\",\n",
    "            \"02-Oct-2019\",\n",
    "            \"08-Oct-2019\",\n",
    "            \"21-Oct-2019\",\n",
    "            \"28-Oct-2019\",\n",
    "            \"12-Nov-2019\",\n",
    "            \"25-Dec-2019\",\n",
    "            \"February 19 2020\",\n",
    "            \"February 21 2020\",\n",
    "            \"March 10 2020\",\n",
    "            \"March 25 2020\",\n",
    "            \"April 01 2020\",\n",
    "            \"April 02 2020\",\n",
    "            \"April 06 2020\",\n",
    "            \"April 10 2020\",\n",
    "            \"April 14 2020\",\n",
    "            \"May 01 2020\",\n",
    "            \"May 07 2020\",\n",
    "            \"May 25 2020\",\n",
    "            \"October 02 2020\",\n",
    "            \"October 30 2020\",\n",
    "            \"November 16 2020\",\n",
    "            \"November 30 2020\",\n",
    "            \"December 25 2020\"]"
   ]
  },
  {
   "cell_type": "code",
   "execution_count": 4,
   "metadata": {},
   "outputs": [],
   "source": [
    "from dateutil.parser import parse\n",
    "public_holidays = []\n",
    "for i in range(len(holidays)):\n",
    "    public_holidays.append(parse(holidays[i], fuzzy=True))"
   ]
  },
  {
   "cell_type": "code",
   "execution_count": 5,
   "metadata": {},
   "outputs": [],
   "source": [
    "public_holidays = pd.to_datetime(public_holidays)"
   ]
  },
  {
   "cell_type": "code",
   "execution_count": 6,
   "metadata": {},
   "outputs": [],
   "source": [
    "working_days = period.difference(public_holidays)"
   ]
  },
  {
   "cell_type": "code",
   "execution_count": 7,
   "metadata": {},
   "outputs": [],
   "source": [
    "urls = []\n",
    "weight_stock = []\n",
    "for i in range(working_days.size):\n",
    "    append_date = working_days.date[i].strftime(\"%d%m%y\")\n",
    "    urls.append(\"https://www1.nseindia.com/content/indices/top10nifty50_\"+append_date+\".csv\")\n",
    "    file = requests.get(urls[i]).content\n",
    "    file = pd.read_csv(io.StringIO(file.decode('utf-8')))\n",
    "    weight_stock.append(float(file.loc[file[\"SYMBOL\"]==\"HDFCBANK\"][\"WEIGHTAGE(%)\"]))\n",
    "    #sleep(0.1)"
   ]
  },
  {
   "cell_type": "code",
   "execution_count": 8,
   "metadata": {},
   "outputs": [
    {
     "data": {
      "text/plain": [
       "[<matplotlib.lines.Line2D at 0xbe99af0>]"
      ]
     },
     "execution_count": 8,
     "metadata": {},
     "output_type": "execute_result"
    },
    {
     "data": {
      "image/png": "[encoded data removed]",
      "text/plain": [
       "<Figure size 432x288 with 1 Axes>"
      ]
     },
     "metadata": {
      "needs_background": "light"
     },
     "output_type": "display_data"
    }
   ],
   "source": [
    "plt.plot(working_days,weight_stock)"
   ]
  },
  {
   "cell_type": "code",
   "execution_count": 9,
   "metadata": {},
   "outputs": [],
   "source": [
    "URL = \"https://www.bankbazaar.com/indian-holiday/nse-holidays.html\"\n",
    "headers = {\"User-Agent\" : \"Mozilla/5.0 (Windows NT 10.0; Win64; x64) AppleWebKit/537.36 (KHTML, like Gecko) Chrome/79.0.3945.130 Safari/537.36\"}\n",
    "page = requests.get(URL, headers=headers)\n",
    "soup = BeautifulSoup(page.content, 'html.parser')"
   ]
  },
  {
   "cell_type": "code",
   "execution_count": 10,
   "metadata": {},
   "outputs": [],
   "source": [
    "table = soup.find(\"table\",{\"class\":\"table table-bordered table-striped\"})"
   ]
  },
  {
   "cell_type": "code",
   "execution_count": 11,
   "metadata": {},
   "outputs": [],
   "source": [
    "rows = table.find_all('td')"
   ]
  },
  {
   "cell_type": "code",
   "execution_count": 12,
   "metadata": {},
   "outputs": [],
   "source": [
    "dates = []\n",
    "for i in range(len(rows)):\n",
    "    if i%3 == 0:\n",
    "        dates.append(rows[i+2].text)"
   ]
  },
  {
   "cell_type": "code",
   "execution_count": 13,
   "metadata": {},
   "outputs": [],
   "source": [
    "dates= pd.to_datetime(dates)"
   ]
  },
  {
   "cell_type": "code",
   "execution_count": 14,
   "metadata": {},
   "outputs": [
    {
     "data": {
      "text/plain": [
       "DatetimeIndex(['2020-01-26', '2020-02-21', '2020-04-06', '2020-04-10',\n",
       "               '2020-04-14', '2020-05-07', '2020-07-31', '2020-08-12',\n",
       "               '2020-08-15', '2020-08-29', '2020-10-02', '2020-10-25',\n",
       "               '2020-10-29', '2020-11-14', '2020-11-30', '2020-12-25'],\n",
       "              dtype='datetime64[ns]', freq=None)"
      ]
     },
     "execution_count": 14,
     "metadata": {},
     "output_type": "execute_result"
    }
   ],
   "source": [
    "dates"
   ]
  }
 ],
 "metadata": {
  "kernelspec": {
   "display_name": "Python 3",
   "language": "python",
   "name": "python3"
  },
  "language_info": {
   "codemirror_mode": {
    "name": "ipython",
    "version": 3
   },
   "file_extension": ".py",
   "mimetype": "text/x-python",
   "name": "python",
   "nbconvert_exporter": "python",
   "pygments_lexer": "ipython3",
   "version": "3.7.4"
  }
 },
 "nbformat": 4,
 "nbformat_minor": 4
}
